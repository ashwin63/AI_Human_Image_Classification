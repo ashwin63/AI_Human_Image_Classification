{
 "cells": [
  {
   "cell_type": "code",
   "execution_count": 11,
   "metadata": {
    "id": "Ge3QyAJcToab",
    "tags": []
   },
   "outputs": [],
   "source": [
    "import numpy as np\n",
    "from datasets import load_dataset\n",
    "import torch\n",
    "from transformers import ViTFeatureExtractor\n",
    "from transformers import TrainingArguments\n",
    "from transformers import Trainer\n",
    "import tensorflow as tf\n",
    "from tensorflow.keras.preprocessing.image import ImageDataGenerator"
   ]
  },
  {
   "cell_type": "code",
   "execution_count": 12,
   "metadata": {
    "id": "1zST86R-Tw3s",
    "tags": []
   },
   "outputs": [],
   "source": [
    "from transformers import ViTForImageClassification, default_data_collator\n",
    "from torch.utils.data import DataLoader, Dataset\n",
    "import os\n",
    "from PIL import Image"
   ]
  },
  {
   "cell_type": "code",
   "execution_count": 13,
   "metadata": {
    "id": "WgHiJL2NTx87",
    "tags": []
   },
   "outputs": [],
   "source": [
    "class CustomImageDataset(Dataset):\n",
    "    def __init__(self, img_dir, feature_extractor):\n",
    "        self.img_dir = img_dir\n",
    "        self.img_labels = []\n",
    "        self.img_files = []\n",
    "        self.feature_extractor = feature_extractor\n",
    "        self.label_mapping = {'REAL': 1, 'FAKE': 0}\n",
    "\n",
    "        for label_dir in ['REAL', 'FAKE']:\n",
    "            dir_path = os.path.join(img_dir, label_dir)\n",
    "            files = os.listdir(dir_path)\n",
    "            for file in files:\n",
    "                self.img_files.append(os.path.join(dir_path, file))\n",
    "                self.img_labels.append(self.label_mapping[label_dir])\n",
    "\n",
    "    def __len__(self):\n",
    "        return len(self.img_files)\n",
    "\n",
    "    def __getitem__(self, idx):\n",
    "        img_path = self.img_files[idx]\n",
    "        image = Image.open(img_path).convert(\"RGB\")\n",
    "        label = self.img_labels[idx]\n",
    "        features = self.feature_extractor(images=image, return_tensors=\"pt\")\n",
    "        # Ensure the output is in a dictionary format\n",
    "        return {\"pixel_values\": features['pixel_values'].squeeze(), \"labels\": torch.tensor(label)}\n",
    "\n",
    "\n"
   ]
  },
  {
   "cell_type": "code",
   "execution_count": 14,
   "metadata": {
    "colab": {
     "base_uri": "https://localhost:8080/"
    },
    "id": "EBlX0GfXUCcr",
    "outputId": "f420aece-258a-44f1-ef16-456b9d6363ca",
    "tags": []
   },
   "outputs": [
    {
     "name": "stderr",
     "output_type": "stream",
     "text": [
      "Some weights of ViTForImageClassification were not initialized from the model checkpoint at google/vit-base-patch16-224-in21k and are newly initialized: ['classifier.bias', 'classifier.weight']\n",
      "You should probably TRAIN this model on a down-stream task to be able to use it for predictions and inference.\n"
     ]
    }
   ],
   "source": [
    "model_id = 'google/vit-base-patch16-224-in21k'\n",
    "feature_extractor = ViTFeatureExtractor.from_pretrained(\n",
    "    model_id\n",
    ")\n",
    "# device will determine whether to run the training on GPU or CPU.\n",
    "device = torch.device('cuda' if torch.cuda.is_available() else 'cpu')\n",
    "\n",
    "model = ViTForImageClassification.from_pretrained(\n",
    "    model_id,  # classification head\n",
    "    num_labels=2\n",
    ")\n",
    "model.to(device)\n",
    "\n",
    "# Initialize the feature extractor\n",
    "feature_extractor = ViTFeatureExtractor.from_pretrained(model_id)\n",
    "\n",
    "# Create the dataset\n",
    "train_dataset = CustomImageDataset(img_dir='AI_Human_Image_Classification/dataset/train', feature_extractor=feature_extractor)\n",
    "test_dataset = CustomImageDataset(img_dir='AI_Human_Image_Classification/dataset/test', feature_extractor=feature_extractor)\n",
    "\n",
    "# Create the DataLoader\n",
    "train_loader = DataLoader(train_dataset, batch_size=16, shuffle=True)\n",
    "test_loader = DataLoader(test_dataset, batch_size=16, shuffle=False)\n"
   ]
  },
  {
   "cell_type": "code",
   "execution_count": 15,
   "metadata": {},
   "outputs": [
    {
     "data": {
      "text/plain": [
       "device(type='cuda')"
      ]
     },
     "execution_count": 15,
     "metadata": {},
     "output_type": "execute_result"
    }
   ],
   "source": [
    "device"
   ]
  },
  {
   "cell_type": "code",
   "execution_count": 18,
   "metadata": {},
   "outputs": [],
   "source": [
    "from torch.optim import SGD\n",
    "optimizer = SGD(model.parameters(), lr=5e-5)"
   ]
  },
  {
   "cell_type": "code",
   "execution_count": 19,
   "metadata": {},
   "outputs": [],
   "source": [
    "from transformers import TrainerCallback\n",
    "\n",
    "class LossHistory(TrainerCallback):\n",
    "    \"A callback that records eval loss into a list.\"\n",
    "    def __init__(self):\n",
    "        self.train_losses = []\n",
    "        self.eval_losses = []\n",
    "\n",
    "    def on_log(self, args, state, control, logs=None, **kwargs):\n",
    "        # We extract the loss from the logs and record it\n",
    "        if 'loss' in logs:\n",
    "            self.train_losses.append(logs['loss'])\n",
    "        if 'eval_loss' in logs:\n",
    "            self.eval_losses.append(logs['eval_loss'])"
   ]
  },
  {
   "cell_type": "code",
   "execution_count": 21,
   "metadata": {},
   "outputs": [],
   "source": [
    "import logging\n",
    "from transformers import set_seed, logging\n",
    "\n",
    "logging.set_verbosity_info()\n",
    "set_seed(42)"
   ]
  },
  {
   "cell_type": "code",
   "execution_count": 28,
   "metadata": {
    "colab": {
     "base_uri": "https://localhost:8080/"
    },
    "id": "eC8UqqMyUGgW",
    "outputId": "50d72e77-506d-4e67-e263-a54182c139f4",
    "tags": []
   },
   "outputs": [
    {
     "name": "stderr",
     "output_type": "stream",
     "text": [
      "PyTorch: setting up devices\n",
      "The default value for the training argument `--report_to` will change in v5 (from all installed integrations to none). In v5, you will need to use `--report_to all` to get the same behavior as now. You should start updating your code and make this info disappear :-).\n",
      "Detected kernel version 4.18.0, which is below the recommended minimum of 5.5.0; this can cause the process to hang. It is recommended to upgrade the kernel to the minimum version or higher.\n"
     ]
    }
   ],
   "source": [
    "training_args = TrainingArguments(\n",
    "    per_device_train_batch_size=16,\n",
    "    evaluation_strategy=\"epoch\",\n",
    "    num_train_epochs=4,\n",
    "    save_strategy=\"epoch\",\n",
    "    logging_steps=10,\n",
    "    learning_rate=5e-5,\n",
    "    save_total_limit=2,\n",
    "    remove_unused_columns=False,\n",
    "    push_to_hub=False,\n",
    "    load_best_model_at_end=True,\n",
    "    output_dir=\"./outputs\",\n",
    "    use_cpu=False,\n",
    "    metric_for_best_model=\"loss\",\n",
    "    #bf16=True\n",
    ")\n",
    "loss_history = LossHistory()\n",
    "trainer = Trainer(\n",
    "    model=model,\n",
    "    args=training_args,\n",
    "    train_dataset=train_dataset,\n",
    "    eval_dataset=test_dataset,\n",
    "    data_collator=default_data_collator,\n",
    "    compute_metrics=None,  # Define your metrics function if needed\n",
    "    optimizers = (optimizer, None),\n",
    "    callbacks=[loss_history]\n",
    ")"
   ]
  },
  {
   "cell_type": "code",
   "execution_count": 29,
   "metadata": {
    "colab": {
     "background_save": true,
     "base_uri": "https://localhost:8080/",
     "height": 174
    },
    "id": "RyUjURC-UL8R",
    "outputId": "3dfd31a3-7e80-4138-d7b2-e56edcc6d899",
    "tags": []
   },
   "outputs": [
    {
     "name": "stderr",
     "output_type": "stream",
     "text": [
      "***** Running training *****\n",
      "  Num examples = 100,000\n",
      "  Num Epochs = 4\n",
      "  Instantaneous batch size per device = 16\n",
      "  Total train batch size (w. parallel, distributed & accumulation) = 16\n",
      "  Gradient Accumulation steps = 1\n",
      "  Total optimization steps = 25,000\n",
      "  Number of trainable parameters = 85,800,194\n"
     ]
    },
    {
     "data": {
      "text/html": [
       "\n",
       "    <div>\n",
       "      \n",
       "      <progress value='25000' max='25000' style='width:300px; height:20px; vertical-align: middle;'></progress>\n",
       "      [25000/25000 41:52, Epoch 4/4]\n",
       "    </div>\n",
       "    <table border=\"1\" class=\"dataframe\">\n",
       "  <thead>\n",
       " <tr style=\"text-align: left;\">\n",
       "      <th>Epoch</th>\n",
       "      <th>Training Loss</th>\n",
       "      <th>Validation Loss</th>\n",
       "    </tr>\n",
       "  </thead>\n",
       "  <tbody>\n",
       "    <tr>\n",
       "      <td>1</td>\n",
       "      <td>0.656900</td>\n",
       "      <td>0.667766</td>\n",
       "    </tr>\n",
       "    <tr>\n",
       "      <td>2</td>\n",
       "      <td>0.634900</td>\n",
       "      <td>0.644258</td>\n",
       "    </tr>\n",
       "    <tr>\n",
       "      <td>3</td>\n",
       "      <td>0.619900</td>\n",
       "      <td>0.628192</td>\n",
       "    </tr>\n",
       "    <tr>\n",
       "      <td>4</td>\n",
       "      <td>0.631900</td>\n",
       "      <td>0.622449</td>\n",
       "    </tr>\n",
       "  </tbody>\n",
       "</table><p>"
      ],
      "text/plain": [
       "<IPython.core.display.HTML object>"
      ]
     },
     "metadata": {},
     "output_type": "display_data"
    },
    {
     "name": "stderr",
     "output_type": "stream",
     "text": [
      "***** Running Evaluation *****\n",
      "  Num examples = 20000\n",
      "  Batch size = 8\n",
      "Saving model checkpoint to ./outputs/checkpoint-6250\n",
      "Configuration saved in ./outputs/checkpoint-6250/config.json\n",
      "Model weights saved in ./outputs/checkpoint-6250/model.safetensors\n",
      "***** Running Evaluation *****\n",
      "  Num examples = 20000\n",
      "  Batch size = 8\n",
      "Saving model checkpoint to ./outputs/checkpoint-12500\n",
      "Configuration saved in ./outputs/checkpoint-12500/config.json\n",
      "Model weights saved in ./outputs/checkpoint-12500/model.safetensors\n",
      "***** Running Evaluation *****\n",
      "  Num examples = 20000\n",
      "  Batch size = 8\n",
      "Saving model checkpoint to ./outputs/checkpoint-18750\n",
      "Configuration saved in ./outputs/checkpoint-18750/config.json\n",
      "Model weights saved in ./outputs/checkpoint-18750/model.safetensors\n",
      "Deleting older checkpoint [outputs/checkpoint-6250] due to args.save_total_limit\n",
      "***** Running Evaluation *****\n",
      "  Num examples = 20000\n",
      "  Batch size = 8\n",
      "Saving model checkpoint to ./outputs/checkpoint-25000\n",
      "Configuration saved in ./outputs/checkpoint-25000/config.json\n",
      "Model weights saved in ./outputs/checkpoint-25000/model.safetensors\n",
      "Deleting older checkpoint [outputs/checkpoint-12500] due to args.save_total_limit\n",
      "\n",
      "\n",
      "Training completed. Do not forget to share your model on huggingface.co/models =)\n",
      "\n",
      "\n",
      "Loading best model from ./outputs/checkpoint-25000 (score: 0.6224492192268372).\n"
     ]
    },
    {
     "data": {
      "text/plain": [
       "TrainOutput(global_step=25000, training_loss=0.6495504150390625, metrics={'train_runtime': 2513.0477, 'train_samples_per_second': 159.169, 'train_steps_per_second': 9.948, 'total_flos': 3.09967958458368e+19, 'train_loss': 0.6495504150390625, 'epoch': 4.0})"
      ]
     },
     "execution_count": 29,
     "metadata": {},
     "output_type": "execute_result"
    }
   ],
   "source": [
    "trainer.train()"
   ]
  },
  {
   "cell_type": "code",
   "execution_count": 31,
   "metadata": {},
   "outputs": [
    {
     "data": {
      "image/png": "[encoded data removed]",
      "text/plain": [
       "<Figure size 720x360 with 1 Axes>"
      ]
     },
     "metadata": {
      "needs_background": "light"
     },
     "output_type": "display_data"
    }
   ],
   "source": [
    "import matplotlib.pyplot as plt\n",
    "plt.figure(figsize=(10, 5))\n",
    "plt.plot(loss_history.train_losses, label='Train Loss')\n",
    "plt.plot(loss_history.eval_losses, label='Validation Loss')\n",
    "plt.title('Training and Validation Loss Over Epochs')\n",
    "plt.xlabel('Epochs')\n",
    "plt.ylabel('Loss')\n",
    "plt.legend()\n",
    "plt.show()"
   ]
  },
  {
   "cell_type": "code",
   "execution_count": 32,
   "metadata": {},
   "outputs": [],
   "source": [
    "def get_predictions(model, dataloader, device):\n",
    "    model.eval()\n",
    "    predictions = []\n",
    "    true_labels = []\n",
    "\n",
    "    with torch.no_grad():\n",
    "        for batch in dataloader:\n",
    "            inputs, labels = batch['pixel_values'].to(device), batch['labels'].to(device)\n",
    "            outputs = model(inputs)\n",
    "            _, preds = torch.max(outputs.logits, 1)\n",
    "            predictions.extend(preds.view(-1).cpu().numpy())\n",
    "            true_labels.extend(labels.cpu().numpy())\n",
    "\n",
    "    return np.array(predictions), np.array(true_labels)"
   ]
  },
  {
   "cell_type": "code",
   "execution_count": 33,
   "metadata": {},
   "outputs": [],
   "source": [
    "import numpy as np\n",
    "import torch\n",
    "from sklearn.metrics import confusion_matrix, precision_recall_fscore_support\n",
    "import matplotlib.pyplot as plt\n",
    "import seaborn as sns"
   ]
  },
  {
   "cell_type": "code",
   "execution_count": 34,
   "metadata": {},
   "outputs": [],
   "source": [
    "device = torch.device(\"cuda\" if torch.cuda.is_available() else \"cpu\")\n",
    "predictions, true_labels = get_predictions(model, test_loader, device)"
   ]
  },
  {
   "cell_type": "code",
   "execution_count": 35,
   "metadata": {},
   "outputs": [
    {
     "data": {
      "image/png": "[encoded data removed]",
      "text/plain": [
       "<Figure size 576x432 with 2 Axes>"
      ]
     },
     "metadata": {
      "needs_background": "light"
     },
     "output_type": "display_data"
    },
    {
     "name": "stdout",
     "output_type": "stream",
     "text": [
      "F1 Score: 0.79\n",
      "Precision: 0.85\n",
      "Recall: 0.75\n",
      "Sensitivity: 0.75\n",
      "Specificity: 0.87\n"
     ]
    }
   ],
   "source": [
    "cm = confusion_matrix(true_labels, predictions)\n",
    "precision, recall, f_score, _ = precision_recall_fscore_support(true_labels, predictions, average='binary')\n",
    "\n",
    "# Calculate sensitivity and specificity\n",
    "tn, fp, fn, tp = cm.ravel()\n",
    "sensitivity = tp / (tp + fn)\n",
    "specificity = tn / (tn + fp)\n",
    "\n",
    "# Plotting the confusion matrix\n",
    "plt.figure(figsize=(8, 6))\n",
    "sns.heatmap(cm, annot=True, fmt='d', cmap='Blues', xticklabels=['Fake', 'Real'], yticklabels=['Fake', 'Real'])\n",
    "plt.xlabel('Predicted Label')\n",
    "plt.ylabel('True Label')\n",
    "plt.title('Confusion Matrix')\n",
    "plt.show()\n",
    "\n",
    "# Display precision, recall, sensitivity, and specificity\n",
    "print(f\"F1 Score: {f_score:.2f}\")\n",
    "print(f\"Precision: {precision:.2f}\")\n",
    "print(f\"Recall: {recall:.2f}\")\n",
    "print(f\"Sensitivity: {sensitivity:.2f}\")\n",
    "print(f\"Specificity: {specificity:.2f}\")"
   ]
  },
  {
   "cell_type": "code",
   "execution_count": 47,
   "metadata": {},
   "outputs": [
    {
     "name": "stdout",
     "output_type": "stream",
     "text": [
      "Predicted Label: REAL\n"
     ]
    },
    {
     "data": {
      "image/png": "[encoded data removed]",
      "text/plain": [
       "<Figure size 432x288 with 1 Axes>"
      ]
     },
     "metadata": {
      "needs_background": "light"
     },
     "output_type": "display_data"
    }
   ],
   "source": [
    "image_path = '1 (2).jpg'\n",
    "image = Image.open(image_path).convert(\"RGB\")\n",
    "inputs = feature_extractor(images=image, return_tensors=\"pt\")\n",
    "pixel_values = inputs['pixel_values'].to(device)\n",
    "model.eval()\n",
    "with torch.no_grad():\n",
    "    outputs = model(pixel_values)\n",
    "logits = outputs.logits\n",
    "predicted_class_idx = logits.argmax(-1).item()\n",
    "\n",
    "predicted_label = 'REAL' if predicted_class_idx == 1 else 'FAKE'\n",
    "\n",
    "print(f\"Predicted Label: {predicted_label}\")\n",
    "\n",
    "plt.imshow(image)\n",
    "plt.axis('off')\n",
    "plt.title(f\"Predicted Label: {predicted_label}\")\n",
    "plt.show()"
   ]
  },
  {
   "cell_type": "code",
   "execution_count": 43,
   "metadata": {},
   "outputs": [
    {
     "name": "stdout",
     "output_type": "stream",
     "text": [
      "Predicted Label: REAL\n"
     ]
    },
    {
     "data": {
      "image/png": "[encoded data removed]",
      "text/plain": [
       "<Figure size 432x288 with 1 Axes>"
      ]
     },
     "metadata": {
      "needs_background": "light"
     },
     "output_type": "display_data"
    }
   ],
   "source": [
    "image_path = '4.jpg'\n",
    "image = Image.open(image_path).convert(\"RGB\")\n",
    "inputs = feature_extractor(images=image, return_tensors=\"pt\")\n",
    "pixel_values = inputs['pixel_values'].to(device)\n",
    "model.eval()\n",
    "with torch.no_grad():\n",
    "    outputs = model(pixel_values)\n",
    "logits = outputs.logits\n",
    "predicted_class_idx = logits.argmax(-1).item()\n",
    "\n",
    "predicted_label = 'REAL' if predicted_class_idx == 1 else 'FAKE'\n",
    "\n",
    "print(f\"Predicted Label: {predicted_label}\")\n",
    "\n",
    "plt.imshow(image)\n",
    "plt.axis('off')\n",
    "plt.title(f\"Predicted Label: {predicted_label}\")\n",
    "plt.show()"
   ]
  },
  {
   "cell_type": "code",
   "execution_count": 35,
   "metadata": {},
   "outputs": [],
   "source": [
    "#trainer.save_model(\"./outputs/final model\")"
   ]
  }
 ],
 "metadata": {
  "colab": {
   "provenance": []
  },
  "kernelspec": {
   "display_name": "Python 3",
   "language": "python",
   "name": "python3"
  },
  "language_info": {
   "codemirror_mode": {
    "name": "ipython",
    "version": 3
   },
   "file_extension": ".py",
   "mimetype": "text/x-python",
   "name": "python",
   "nbconvert_exporter": "python",
   "pygments_lexer": "ipython3",
   "version": "3.8.8"
  }
 },
 "nbformat": 4,
 "nbformat_minor": 4
}
